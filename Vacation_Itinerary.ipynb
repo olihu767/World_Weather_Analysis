{
 "cells": [
  {
   "cell_type": "code",
   "execution_count": 6,
   "metadata": {},
   "outputs": [],
   "source": [
    "import pandas as pd\n",
    "import gmaps\n",
    "import requests\n"
   ]
  },
  {
   "cell_type": "code",
   "execution_count": 7,
   "metadata": {},
   "outputs": [],
   "source": [
    "from config import g_key"
   ]
  },
  {
   "cell_type": "code",
   "execution_count": 9,
   "metadata": {},
   "outputs": [
    {
     "data": {
      "text/html": [
       "<div>\n",
       "<style scoped>\n",
       "    .dataframe tbody tr th:only-of-type {\n",
       "        vertical-align: middle;\n",
       "    }\n",
       "\n",
       "    .dataframe tbody tr th {\n",
       "        vertical-align: top;\n",
       "    }\n",
       "\n",
       "    .dataframe thead th {\n",
       "        text-align: right;\n",
       "    }\n",
       "</style>\n",
       "<table border=\"1\" class=\"dataframe\">\n",
       "  <thead>\n",
       "    <tr style=\"text-align: right;\">\n",
       "      <th></th>\n",
       "      <th>City_ID</th>\n",
       "      <th>City</th>\n",
       "      <th>Country</th>\n",
       "      <th>Max Temp</th>\n",
       "      <th>Current Description</th>\n",
       "      <th>Lat</th>\n",
       "      <th>Lng</th>\n",
       "      <th>Hotel Name</th>\n",
       "    </tr>\n",
       "  </thead>\n",
       "  <tbody>\n",
       "    <tr>\n",
       "      <td>0</td>\n",
       "      <td>7</td>\n",
       "      <td>Phek</td>\n",
       "      <td>IN</td>\n",
       "      <td>71.29</td>\n",
       "      <td>light rain</td>\n",
       "      <td>25.70</td>\n",
       "      <td>94.46</td>\n",
       "      <td>General Administration Guest House</td>\n",
       "    </tr>\n",
       "    <tr>\n",
       "      <td>1</td>\n",
       "      <td>28</td>\n",
       "      <td>Mbanza-Ngungu</td>\n",
       "      <td>CD</td>\n",
       "      <td>73.92</td>\n",
       "      <td>light rain</td>\n",
       "      <td>-5.25</td>\n",
       "      <td>14.87</td>\n",
       "      <td>Hotel Full Business</td>\n",
       "    </tr>\n",
       "    <tr>\n",
       "      <td>2</td>\n",
       "      <td>37</td>\n",
       "      <td>Buala</td>\n",
       "      <td>SB</td>\n",
       "      <td>79.88</td>\n",
       "      <td>light rain</td>\n",
       "      <td>-8.15</td>\n",
       "      <td>159.59</td>\n",
       "      <td>Maringe Lagoon Lodge</td>\n",
       "    </tr>\n",
       "    <tr>\n",
       "      <td>3</td>\n",
       "      <td>46</td>\n",
       "      <td>Faanui</td>\n",
       "      <td>PF</td>\n",
       "      <td>79.09</td>\n",
       "      <td>moderate rain</td>\n",
       "      <td>-16.48</td>\n",
       "      <td>-151.75</td>\n",
       "      <td>Bora-Bora Pearl Beach Resort &amp; Spa</td>\n",
       "    </tr>\n",
       "    <tr>\n",
       "      <td>4</td>\n",
       "      <td>61</td>\n",
       "      <td>Colwyn Bay</td>\n",
       "      <td>GB</td>\n",
       "      <td>48.20</td>\n",
       "      <td>light rain</td>\n",
       "      <td>53.29</td>\n",
       "      <td>-3.71</td>\n",
       "      <td>Bryn Woodlands House</td>\n",
       "    </tr>\n",
       "  </tbody>\n",
       "</table>\n",
       "</div>"
      ],
      "text/plain": [
       "   City_ID           City Country  Max Temp Current Description    Lat  \\\n",
       "0        7           Phek      IN     71.29          light rain  25.70   \n",
       "1       28  Mbanza-Ngungu      CD     73.92          light rain  -5.25   \n",
       "2       37          Buala      SB     79.88          light rain  -8.15   \n",
       "3       46         Faanui      PF     79.09       moderate rain -16.48   \n",
       "4       61     Colwyn Bay      GB     48.20          light rain  53.29   \n",
       "\n",
       "      Lng                          Hotel Name  \n",
       "0   94.46  General Administration Guest House  \n",
       "1   14.87                 Hotel Full Business  \n",
       "2  159.59                Maringe Lagoon Lodge  \n",
       "3 -151.75  Bora-Bora Pearl Beach Resort & Spa  \n",
       "4   -3.71                Bryn Woodlands House  "
      ]
     },
     "execution_count": 9,
     "metadata": {},
     "output_type": "execute_result"
    }
   ],
   "source": [
    "vacation_df = pd.read_csv(\"weather_data/WeatherPy_vacation.csv\")\n",
    "vacation_df.head()"
   ]
  },
  {
   "cell_type": "code",
   "execution_count": 10,
   "metadata": {},
   "outputs": [
    {
     "data": {
      "text/html": [
       "<div>\n",
       "<style scoped>\n",
       "    .dataframe tbody tr th:only-of-type {\n",
       "        vertical-align: middle;\n",
       "    }\n",
       "\n",
       "    .dataframe tbody tr th {\n",
       "        vertical-align: top;\n",
       "    }\n",
       "\n",
       "    .dataframe thead th {\n",
       "        text-align: right;\n",
       "    }\n",
       "</style>\n",
       "<table border=\"1\" class=\"dataframe\">\n",
       "  <thead>\n",
       "    <tr style=\"text-align: right;\">\n",
       "      <th></th>\n",
       "      <th>City_ID</th>\n",
       "      <th>City</th>\n",
       "      <th>Country</th>\n",
       "      <th>Max Temp</th>\n",
       "      <th>Current Description</th>\n",
       "      <th>Lat</th>\n",
       "      <th>Lng</th>\n",
       "      <th>Hotel Name</th>\n",
       "    </tr>\n",
       "  </thead>\n",
       "  <tbody>\n",
       "    <tr>\n",
       "      <td>24</td>\n",
       "      <td>286</td>\n",
       "      <td>Itarema</td>\n",
       "      <td>BR</td>\n",
       "      <td>78.42</td>\n",
       "      <td>light rain</td>\n",
       "      <td>-2.92</td>\n",
       "      <td>-39.92</td>\n",
       "      <td>Windvillage</td>\n",
       "    </tr>\n",
       "  </tbody>\n",
       "</table>\n",
       "</div>"
      ],
      "text/plain": [
       "    City_ID     City Country  Max Temp Current Description   Lat    Lng  \\\n",
       "24      286  Itarema      BR     78.42          light rain -2.92 -39.92   \n",
       "\n",
       "     Hotel Name  \n",
       "24  Windvillage  "
      ]
     },
     "execution_count": 10,
     "metadata": {},
     "output_type": "execute_result"
    }
   ],
   "source": [
    "city1_df = vacation_df.loc[(vacation_df[\"City\"] == 'Itarema')]\n",
    "city2_df = vacation_df.loc[(vacation_df[\"City\"] == 'Trairi')]\n",
    "city3_df = vacation_df.loc[(vacation_df[\"City\"] == 'Indiaroba')]\n",
    "city4_df = vacation_df.loc[(vacation_df[\"City\"] == 'Coruripe')]\n",
    "city1_df"
   ]
  },
  {
   "cell_type": "code",
   "execution_count": 11,
   "metadata": {},
   "outputs": [
    {
     "data": {
      "application/vnd.jupyter.widget-view+json": {
       "model_id": "5c720ba9a58646498e9fcbc8ad631d5a",
       "version_major": 2,
       "version_minor": 0
      },
      "text/plain": [
       "Figure(layout=FigureLayout(height='420px'))"
      ]
     },
     "metadata": {},
     "output_type": "display_data"
    }
   ],
   "source": [
    "# pack tuples for coordinates\n",
    "city1_tuple = (city1_df['Lat'].values[0], city1_df['Lng'].values[0])\n",
    "city2_tuple = (city2_df['Lat'].values[0], city2_df['Lng'].values[0])\n",
    "city3_tuple = (city3_df['Lat'].values[0], city3_df['Lng'].values[0])\n",
    "city4_tuple = (city4_df['Lat'].values[0], city4_df['Lng'].values[0])\n",
    "\n",
    "# plot directions map\n",
    "fig = gmaps.figure()\n",
    "full_route = gmaps.directions_layer(\n",
    "        city1_tuple, city4_tuple, waypoints=[city2_tuple, city3_tuple],\n",
    "        travel_mode='DRIVING')\n",
    "fig.add_layer(full_route)\n",
    "fig"
   ]
  },
  {
   "cell_type": "code",
   "execution_count": 12,
   "metadata": {},
   "outputs": [
    {
     "data": {
      "text/html": [
       "<div>\n",
       "<style scoped>\n",
       "    .dataframe tbody tr th:only-of-type {\n",
       "        vertical-align: middle;\n",
       "    }\n",
       "\n",
       "    .dataframe tbody tr th {\n",
       "        vertical-align: top;\n",
       "    }\n",
       "\n",
       "    .dataframe thead th {\n",
       "        text-align: right;\n",
       "    }\n",
       "</style>\n",
       "<table border=\"1\" class=\"dataframe\">\n",
       "  <thead>\n",
       "    <tr style=\"text-align: right;\">\n",
       "      <th></th>\n",
       "      <th>City_ID</th>\n",
       "      <th>City</th>\n",
       "      <th>Country</th>\n",
       "      <th>Max Temp</th>\n",
       "      <th>Current Description</th>\n",
       "      <th>Lat</th>\n",
       "      <th>Lng</th>\n",
       "      <th>Hotel Name</th>\n",
       "    </tr>\n",
       "  </thead>\n",
       "  <tbody>\n",
       "    <tr>\n",
       "      <td>24</td>\n",
       "      <td>286</td>\n",
       "      <td>Itarema</td>\n",
       "      <td>BR</td>\n",
       "      <td>78.42</td>\n",
       "      <td>light rain</td>\n",
       "      <td>-2.92</td>\n",
       "      <td>-39.92</td>\n",
       "      <td>Windvillage</td>\n",
       "    </tr>\n",
       "    <tr>\n",
       "      <td>36</td>\n",
       "      <td>379</td>\n",
       "      <td>Trairi</td>\n",
       "      <td>BR</td>\n",
       "      <td>75.49</td>\n",
       "      <td>light rain</td>\n",
       "      <td>-3.28</td>\n",
       "      <td>-39.27</td>\n",
       "      <td>Pousada Field Lilies - Trairi</td>\n",
       "    </tr>\n",
       "    <tr>\n",
       "      <td>51</td>\n",
       "      <td>490</td>\n",
       "      <td>Indiaroba</td>\n",
       "      <td>BR</td>\n",
       "      <td>75.56</td>\n",
       "      <td>light rain</td>\n",
       "      <td>-11.53</td>\n",
       "      <td>-37.51</td>\n",
       "      <td>Hotel Pousada Marivan</td>\n",
       "    </tr>\n",
       "    <tr>\n",
       "      <td>54</td>\n",
       "      <td>514</td>\n",
       "      <td>Coruripe</td>\n",
       "      <td>BR</td>\n",
       "      <td>77.94</td>\n",
       "      <td>light rain</td>\n",
       "      <td>-10.12</td>\n",
       "      <td>-36.18</td>\n",
       "      <td>Pousada e Hotel Litoral Sul</td>\n",
       "    </tr>\n",
       "  </tbody>\n",
       "</table>\n",
       "</div>"
      ],
      "text/plain": [
       "    City_ID       City Country  Max Temp Current Description    Lat    Lng  \\\n",
       "24      286    Itarema      BR     78.42          light rain  -2.92 -39.92   \n",
       "36      379     Trairi      BR     75.49          light rain  -3.28 -39.27   \n",
       "51      490  Indiaroba      BR     75.56          light rain -11.53 -37.51   \n",
       "54      514   Coruripe      BR     77.94          light rain -10.12 -36.18   \n",
       "\n",
       "                       Hotel Name  \n",
       "24                    Windvillage  \n",
       "36  Pousada Field Lilies - Trairi  \n",
       "51          Hotel Pousada Marivan  \n",
       "54    Pousada e Hotel Litoral Sul  "
      ]
     },
     "execution_count": 12,
     "metadata": {},
     "output_type": "execute_result"
    }
   ],
   "source": [
    "full_route_df = vacation_df.loc[(vacation_df[\"City\"] == 'Itarema') | \n",
    "                                (vacation_df[\"City\"] == 'Trairi') |\n",
    "                                (vacation_df[\"City\"] == 'Indiaroba') |\n",
    "                                (vacation_df[\"City\"] == 'Coruripe')]\n",
    "full_route_df"
   ]
  },
  {
   "cell_type": "code",
   "execution_count": 17,
   "metadata": {},
   "outputs": [],
   "source": [
    "info_box_template = \"\"\"\n",
    "<dl>\n",
    "<dt>Hotel Name</dt><dd>{Hotel Name}</dd>\n",
    "<dt>City</dt><dd>{City}</dd>\n",
    "<dt>Country</dt><dd>{Country}</dd>\n",
    "<dt>Current Weather</dt><dd>{Current Description} with a maximum temperature of {Max Temp}°F</dd>\n",
    "</dl>\n",
    "\"\"\""
   ]
  },
  {
   "cell_type": "code",
   "execution_count": 19,
   "metadata": {},
   "outputs": [],
   "source": [
    "# Store the DataFrame Row.\n",
    "hotel_info = [info_box_template.format(**row) for index, row in full_route_df.iterrows()]"
   ]
  },
  {
   "cell_type": "code",
   "execution_count": 20,
   "metadata": {},
   "outputs": [
    {
     "data": {
      "application/vnd.jupyter.widget-view+json": {
       "model_id": "2ccf818de68f4a84993eb01fdaa41b14",
       "version_major": 2,
       "version_minor": 0
      },
      "text/plain": [
       "Figure(layout=FigureLayout(height='420px'))"
      ]
     },
     "metadata": {},
     "output_type": "display_data"
    }
   ],
   "source": [
    "\n",
    "# Add a heatmap of temperature for the vacation spots and a pop-up marker for each city.\n",
    "locations = full_route_df[[\"Lat\", \"Lng\"]]\n",
    "max_temp = full_route_df[\"Max Temp\"]\n",
    "fig = gmaps.figure(center=(30.0, 31.0), zoom_level=1.5)\n",
    "heat_layer = gmaps.heatmap_layer(locations, weights=max_temp,dissipating=False,\n",
    "             max_intensity=300, point_radius=4)\n",
    "marker_layer = gmaps.marker_layer(locations, info_box_content=hotel_info)\n",
    "fig.add_layer(heat_layer)\n",
    "fig.add_layer(marker_layer)\n",
    "\n",
    "# Call the figure to plot the data.\n",
    "fig"
   ]
  },
  {
   "cell_type": "code",
   "execution_count": null,
   "metadata": {},
   "outputs": [],
   "source": []
  }
 ],
 "metadata": {
  "kernelspec": {
   "display_name": "Python 3",
   "language": "python",
   "name": "python3"
  },
  "language_info": {
   "codemirror_mode": {
    "name": "ipython",
    "version": 3
   },
   "file_extension": ".py",
   "mimetype": "text/x-python",
   "name": "python",
   "nbconvert_exporter": "python",
   "pygments_lexer": "ipython3",
   "version": "3.7.4"
  }
 },
 "nbformat": 4,
 "nbformat_minor": 2
}
