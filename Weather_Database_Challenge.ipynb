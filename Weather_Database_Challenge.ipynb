{
 "cells": [
  {
   "cell_type": "code",
   "execution_count": 3,
   "metadata": {},
   "outputs": [],
   "source": [
    "# Import the dependencies\n",
    "import pandas as pd\n",
    "import matplotlib.pyplot as plt\n",
    "import numpy as np\n",
    "from scipy import stats\n",
    ""
   ]
  },
  {
   "cell_type": "code",
   "execution_count": 4,
   "metadata": {},
   "outputs": [],
   "source": [
    "#import the requests library\n",
    "import requests"
   ]
  },
  {
   "cell_type": "code",
   "execution_count": 5,
   "metadata": {},
   "outputs": [],
   "source": [
    "#import the API key\n",
    "from config import weather_api_key"
   ]
  },
  {
   "cell_type": "code",
   "execution_count": 6,
   "metadata": {},
   "outputs": [
    {
     "output_type": "stream",
     "name": "stdout",
     "text": "http://api.openweathermap.org/data/2.5/weather?units=Imperial&appid=52a29b1c49b86aa55d968385d4a2e37c\n"
    }
   ],
   "source": [
    "# Starting URL for weahter Map API call\n",
    "url = \"http://api.openweathermap.org/data/2.5/weather?units=Imperial&appid=\" + weather_api_key\n",
    "print(url)"
   ]
  },
  {
   "cell_type": "code",
   "execution_count": 7,
   "metadata": {},
   "outputs": [
    {
     "output_type": "execute_result",
     "data": {
      "text/plain": "<zip at 0x1d2c20b1588>"
     },
     "metadata": {},
     "execution_count": 7
    }
   ],
   "source": [
    "#Import the datetime module from the datetime library\n",
    "from datetime import datetime\n",
    "\n",
    "lats = np.random.uniform(low=-90.000, high=90.000, size=1500)\n",
    "lngs = np.random.uniform(low=-180.000, high=180.000, size=1500)\n",
    "lat_lngs = zip(lats, lngs)\n",
    "lat_lngs"
   ]
  },
  {
   "cell_type": "code",
   "execution_count": 8,
   "metadata": {},
   "outputs": [],
   "source": [
    "# Add the latitudes and longitudes to a list\n",
    "coordinates = list(lat_lngs)"
   ]
  },
  {
   "cell_type": "code",
   "execution_count": 9,
   "metadata": {},
   "outputs": [],
   "source": [
    "# Use the citipy module to determine city based on latitude and longitude.\n",
    "from citipy import citipy"
   ]
  },
  {
   "cell_type": "code",
   "execution_count": 10,
   "metadata": {},
   "outputs": [
    {
     "output_type": "execute_result",
     "data": {
      "text/plain": "617"
     },
     "metadata": {},
     "execution_count": 10
    }
   ],
   "source": [
    "# Create a list for holding the cities\n",
    "cities =[]\n",
    "# Identify the nearest city for each latitude and longitude combination.\n",
    "for coordinate in coordinates:\n",
    "    city = citipy.nearest_city(coordinate[0], coordinate[1]).city_name\n",
    "\n",
    "    # If the city is unique, then we will add it to the cities list.\n",
    "    if city not in cities:\n",
    "        cities.append(city)\n",
    "# Print the city count to confirm sufficient count.\n",
    "len(cities)"
   ]
  },
  {
   "cell_type": "code",
   "execution_count": 11,
   "metadata": {},
   "outputs": [
    {
     "output_type": "stream",
     "name": "stdout",
     "text": "Beginning Data Retrieval     \n-----------------------------\n"
    }
   ],
   "source": [
    "# Create an empty list to hold the weather data.\n",
    "city_data = []\n",
    "# Print the beginning of the logging.\n",
    "print(\"Beginning Data Retrieval     \")\n",
    "print(\"-----------------------------\")\n",
    "\n",
    "# Create counters.\n",
    "record_count = 1\n",
    "set_count = 1"
   ]
  },
  {
   "cell_type": "code",
   "execution_count": 12,
   "metadata": {},
   "outputs": [
    {
     "output_type": "error",
     "ename": "SyntaxError",
     "evalue": "invalid syntax (<ipython-input-12-15fac4588dbb>, line 2)",
     "traceback": [
      "\u001b[1;36m  File \u001b[1;32m\"<ipython-input-12-15fac4588dbb>\"\u001b[1;36m, line \u001b[1;32m2\u001b[0m\n\u001b[1;33m    \"Current Description\": city_desc,\u001b[0m\n\u001b[1;37m                                    ^\u001b[0m\n\u001b[1;31mSyntaxError\u001b[0m\u001b[1;31m:\u001b[0m invalid syntax\n"
     ]
    }
   ],
   "source": [
    "city_desc = city_weather[\"weather\"][\"description\"]\n",
    "\"Current Description\": city_desc,"
   ]
  },
  {
   "cell_type": "code",
   "execution_count": 13,
   "metadata": {
    "tags": [
     "outputPrepend",
     "outputPrepend",
     "outputPrepend",
     "outputPrepend",
     "outputPrepend",
     "outputPrepend",
     "outputPrepend",
     "outputPrepend",
     "outputPrepend",
     "outputPrepend",
     "outputPrepend",
     "outputPrepend",
     "outputPrepend",
     "outputPrepend",
     "outputPrepend",
     "outputPrepend",
     "outputPrepend",
     "outputPrepend",
     "outputPrepend",
     "outputPrepend",
     "outputPrepend",
     "outputPrepend",
     "outputPrepend",
     "outputPrepend",
     "outputPrepend",
     "outputPrepend",
     "outputPrepend",
     "outputPrepend",
     "outputPrepend",
     "outputPrepend",
     "outputPrepend",
     "outputPrepend",
     "outputPrepend",
     "outputPrepend",
     "outputPrepend",
     "outputPrepend",
     "outputPrepend",
     "outputPrepend",
     "outputPrepend",
     "outputPrepend",
     "outputPrepend",
     "outputPrepend",
     "outputPrepend",
     "outputPrepend",
     "outputPrepend",
     "outputPrepend",
     "outputPrepend",
     "outputPrepend",
     "outputPrepend",
     "outputPrepend",
     "outputPrepend",
     "outputPrepend",
     "outputPrepend",
     "outputPrepend",
     "outputPrepend",
     "outputPrepend",
     "outputPrepend",
     "outputPrepend",
     "outputPrepend",
     "outputPrepend",
     "outputPrepend",
     "outputPrepend",
     "outputPrepend",
     "outputPrepend",
     "outputPrepend",
     "outputPrepend",
     "outputPrepend",
     "outputPrepend",
     "outputPrepend",
     "outputPrepend",
     "outputPrepend",
     "outputPrepend",
     "outputPrepend",
     "outputPrepend",
     "outputPrepend",
     "outputPrepend",
     "outputPrepend",
     "outputPrepend",
     "outputPrepend",
     "outputPrepend",
     "outputPrepend",
     "outputPrepend",
     "outputPrepend",
     "outputPrepend",
     "outputPrepend",
     "outputPrepend",
     "outputPrepend",
     "outputPrepend",
     "outputPrepend",
     "outputPrepend",
     "outputPrepend",
     "outputPrepend",
     "outputPrepend",
     "outputPrepend",
     "outputPrepend",
     "outputPrepend",
     "outputPrepend",
     "outputPrepend",
     "outputPrepend",
     "outputPrepend",
     "outputPrepend",
     "outputPrepend",
     "outputPrepend",
     "outputPrepend",
     "outputPrepend",
     "outputPrepend",
     "outputPrepend",
     "outputPrepend",
     "outputPrepend",
     "outputPrepend",
     "outputPrepend",
     "outputPrepend",
     "outputPrepend",
     "outputPrepend",
     "outputPrepend",
     "outputPrepend",
     "outputPrepend",
     "outputPrepend",
     "outputPrepend",
     "outputPrepend",
     "outputPrepend",
     "outputPrepend",
     "outputPrepend",
     "outputPrepend",
     "outputPrepend",
     "outputPrepend",
     "outputPrepend",
     "outputPrepend",
     "outputPrepend",
     "outputPrepend",
     "outputPrepend",
     "outputPrepend",
     "outputPrepend",
     "outputPrepend",
     "outputPrepend",
     "outputPrepend",
     "outputPrepend",
     "outputPrepend",
     "outputPrepend",
     "outputPrepend",
     "outputPrepend",
     "outputPrepend",
     "outputPrepend",
     "outputPrepend",
     "outputPrepend",
     "outputPrepend",
     "outputPrepend",
     "outputPrepend",
     "outputPrepend",
     "outputPrepend",
     "outputPrepend",
     "outputPrepend",
     "outputPrepend",
     "outputPrepend",
     "outputPrepend",
     "outputPrepend",
     "outputPrepend",
     "outputPrepend",
     "outputPrepend",
     "outputPrepend",
     "outputPrepend",
     "outputPrepend",
     "outputPrepend",
     "outputPrepend",
     "outputPrepend",
     "outputPrepend",
     "outputPrepend",
     "outputPrepend",
     "outputPrepend",
     "outputPrepend",
     "outputPrepend",
     "outputPrepend",
     "outputPrepend",
     "outputPrepend",
     "outputPrepend",
     "outputPrepend",
     "outputPrepend",
     "outputPrepend",
     "outputPrepend",
     "outputPrepend",
     "outputPrepend",
     "outputPrepend",
     "outputPrepend",
     "outputPrepend",
     "outputPrepend",
     "outputPrepend",
     "outputPrepend",
     "outputPrepend",
     "outputPrepend",
     "outputPrepend",
     "outputPrepend",
     "outputPrepend",
     "outputPrepend",
     "outputPrepend",
     "outputPrepend",
     "outputPrepend",
     "outputPrepend",
     "outputPrepend",
     "outputPrepend",
     "outputPrepend",
     "outputPrepend",
     "outputPrepend",
     "outputPrepend",
     "outputPrepend",
     "outputPrepend",
     "outputPrepend",
     "outputPrepend",
     "outputPrepend",
     "outputPrepend",
     "outputPrepend",
     "outputPrepend",
     "outputPrepend",
     "outputPrepend",
     "outputPrepend",
     "outputPrepend",
     "outputPrepend",
     "outputPrepend",
     "outputPrepend",
     "outputPrepend",
     "outputPrepend",
     "outputPrepend",
     "outputPrepend",
     "outputPrepend",
     "outputPrepend",
     "outputPrepend",
     "outputPrepend",
     "outputPrepend",
     "outputPrepend",
     "outputPrepend",
     "outputPrepend",
     "outputPrepend",
     "outputPrepend",
     "outputPrepend",
     "outputPrepend",
     "outputPrepend",
     "outputPrepend",
     "outputPrepend",
     "outputPrepend",
     "outputPrepend",
     "outputPrepend",
     "outputPrepend",
     "outputPrepend",
     "outputPrepend",
     "outputPrepend",
     "outputPrepend",
     "outputPrepend",
     "outputPrepend",
     "outputPrepend",
     "outputPrepend",
     "outputPrepend",
     "outputPrepend",
     "outputPrepend",
     "outputPrepend",
     "outputPrepend",
     "outputPrepend",
     "outputPrepend",
     "outputPrepend",
     "outputPrepend",
     "outputPrepend",
     "outputPrepend",
     "outputPrepend",
     "outputPrepend",
     "outputPrepend",
     "outputPrepend",
     "outputPrepend",
     "outputPrepend",
     "outputPrepend",
     "outputPrepend",
     "outputPrepend",
     "outputPrepend",
     "outputPrepend",
     "outputPrepend",
     "outputPrepend",
     "outputPrepend",
     "outputPrepend",
     "outputPrepend",
     "outputPrepend",
     "outputPrepend",
     "outputPrepend",
     "outputPrepend",
     "outputPrepend",
     "outputPrepend",
     "outputPrepend",
     "outputPrepend",
     "outputPrepend",
     "outputPrepend",
     "outputPrepend",
     "outputPrepend",
     "outputPrepend",
     "outputPrepend",
     "outputPrepend",
     "outputPrepend"
    ]
   },
   "outputs": [
    {
     "output_type": "stream",
     "name": "stdout",
     "text": "sing Record 6 of Set 8 | tilichiki\nIt is not rainning\nIt is now snowing\nProcessing Record 7 of Set 8 | abu zabad\nIt is not rainning\nIt is now snowing\nProcessing Record 8 of Set 8 | sambava\nIt is not rainning\nIt is now snowing\nProcessing Record 9 of Set 8 | polysayevo\nIt is not rainning\nIt is now snowing\nProcessing Record 10 of Set 8 | cervo\nIt is not rainning\nIt is now snowing\nProcessing Record 11 of Set 8 | poum\nIt is not rainning\nIt is now snowing\nProcessing Record 12 of Set 8 | nyrob\nIt is not rainning\nIt is now snowing\nProcessing Record 13 of Set 8 | salina cruz\nIt is not rainning\nIt is now snowing\nProcessing Record 14 of Set 8 | tomatlan\nIt is not rainning\nIt is now snowing\nProcessing Record 15 of Set 8 | nerchinsk\nIt is not rainning\nIt is now snowing\nProcessing Record 16 of Set 8 | winnemucca\nIt is not rainning\nIt is now snowing\nProcessing Record 17 of Set 8 | limoges\nIt is not rainning\nIt is now snowing\nProcessing Record 18 of Set 8 | vanavara\nIt is not rainning\nIt is now snowing\nProcessing Record 19 of Set 8 | port hedland\nIt is not rainning\nIt is now snowing\nProcessing Record 20 of Set 8 | yarmouth\nIt is not rainning\nIt is now snowing\nProcessing Record 21 of Set 8 | lismore\nIt is not rainning\nIt is now snowing\nProcessing Record 22 of Set 8 | padang\nIt is now snowing\nProcessing Record 23 of Set 8 | kaitangata\nIt is not rainning\nIt is now snowing\nProcessing Record 24 of Set 8 | purpe\nIt is not rainning\nProcessing Record 25 of Set 8 | nushki\nIt is not rainning\nIt is now snowing\nProcessing Record 26 of Set 8 | nouadhibou\nIt is not rainning\nIt is now snowing\nProcessing Record 27 of Set 8 | babanusah\nCity not found. Skipping...\nProcessing Record 28 of Set 8 | nuuk\nIt is not rainning\nIt is now snowing\nProcessing Record 29 of Set 8 | manaure\nIt is not rainning\nIt is now snowing\nProcessing Record 30 of Set 8 | tabuk\nIt is not rainning\nIt is now snowing\nProcessing Record 31 of Set 8 | taybad\nIt is not rainning\nIt is now snowing\nProcessing Record 32 of Set 8 | turukhansk\nIt is not rainning\nIt is now snowing\nProcessing Record 33 of Set 8 | novyy chirkey\nIt is not rainning\nIt is now snowing\nProcessing Record 34 of Set 8 | irati\nIt is not rainning\nIt is now snowing\nProcessing Record 35 of Set 8 | sansepolcro\nIt is not rainning\nIt is now snowing\nProcessing Record 36 of Set 8 | labuhan\nIt is now snowing\nProcessing Record 37 of Set 8 | normandin\nIt is not rainning\nIt is now snowing\nProcessing Record 38 of Set 8 | port blair\nIt is not rainning\nIt is now snowing\nProcessing Record 39 of Set 8 | maragogi\nIt is now snowing\nProcessing Record 40 of Set 8 | bosaso\nIt is not rainning\nIt is now snowing\nProcessing Record 41 of Set 8 | whitianga\nIt is not rainning\nIt is now snowing\nProcessing Record 42 of Set 8 | yakeshi\nIt is not rainning\nIt is now snowing\nProcessing Record 43 of Set 8 | puerto escondido\nIt is now snowing\nProcessing Record 44 of Set 8 | chhatak\nIt is not rainning\nIt is now snowing\nProcessing Record 45 of Set 8 | ponta delgada\nIt is not rainning\nIt is now snowing\nProcessing Record 46 of Set 8 | spokane\nIt is not rainning\nIt is now snowing\nProcessing Record 47 of Set 8 | provideniya\nIt is not rainning\nProcessing Record 48 of Set 8 | sorong\nIt is now snowing\nProcessing Record 49 of Set 8 | tigil\nIt is not rainning\nIt is now snowing\nProcessing Record 50 of Set 8 | abay\nIt is not rainning\nIt is now snowing\nProcessing Record 1 of Set 9 | merauke\nIt is not rainning\nIt is now snowing\nProcessing Record 2 of Set 9 | garissa\nIt is not rainning\nIt is now snowing\nProcessing Record 3 of Set 9 | sola\nIt is not rainning\nIt is now snowing\nProcessing Record 4 of Set 9 | temir\nIt is not rainning\nIt is now snowing\nProcessing Record 5 of Set 9 | tahta\nIt is not rainning\nIt is now snowing\nProcessing Record 6 of Set 9 | hohhot\nIt is not rainning\nIt is now snowing\nProcessing Record 7 of Set 9 | rantepao\nIt is now snowing\nProcessing Record 8 of Set 9 | kudahuvadhoo\nIt is not rainning\nIt is now snowing\nProcessing Record 9 of Set 9 | sechura\nIt is not rainning\nIt is now snowing\nProcessing Record 10 of Set 9 | wawa\nIt is not rainning\nIt is now snowing\nProcessing Record 11 of Set 9 | arlit\nIt is not rainning\nIt is now snowing\nProcessing Record 12 of Set 9 | magadi\nIt is not rainning\nIt is now snowing\nProcessing Record 13 of Set 9 | trinidad\nIt is now snowing\nProcessing Record 14 of Set 9 | dvinskoy\nIt is not rainning\nIt is now snowing\nProcessing Record 15 of Set 9 | zaozerne\nIt is not rainning\nIt is now snowing\nProcessing Record 16 of Set 9 | porbandar\nIt is not rainning\nIt is now snowing\nProcessing Record 17 of Set 9 | ofunato\nIt is not rainning\nIt is now snowing\nProcessing Record 18 of Set 9 | auki\nIt is not rainning\nIt is now snowing\nProcessing Record 19 of Set 9 | indramayu\nIt is now snowing\nProcessing Record 20 of Set 9 | glendive\nIt is not rainning\nIt is now snowing\nProcessing Record 21 of Set 9 | cayenne\nIt is not rainning\nIt is now snowing\nProcessing Record 22 of Set 9 | leningradskiy\nIt is not rainning\nIt is now snowing\nProcessing Record 23 of Set 9 | galgani\nCity not found. Skipping...\nProcessing Record 24 of Set 9 | itaituba\nIt is now snowing\nProcessing Record 25 of Set 9 | opotiki\nIt is not rainning\nIt is now snowing\nProcessing Record 26 of Set 9 | nizwa\nIt is not rainning\nIt is now snowing\nProcessing Record 27 of Set 9 | cabaiguan\nIt is not rainning\nIt is now snowing\nProcessing Record 28 of Set 9 | the valley\nIt is not rainning\nIt is now snowing\nProcessing Record 29 of Set 9 | mallama\nCity not found. Skipping...\nProcessing Record 30 of Set 9 | korla\nIt is not rainning\nIt is now snowing\nProcessing Record 31 of Set 9 | xadani\nCity not found. Skipping...\nProcessing Record 32 of Set 9 | atambua\nIt is not rainning\nIt is now snowing\nProcessing Record 33 of Set 9 | vostok\nIt is not rainning\nProcessing Record 34 of Set 9 | honningsvag\nIt is not rainning\nIt is now snowing\nProcessing Record 35 of Set 9 | banepa\nIt is not rainning\nIt is now snowing\nProcessing Record 36 of Set 9 | ondjiva\nIt is not rainning\nIt is now snowing\nProcessing Record 37 of Set 9 | preeceville\nIt is not rainning\nIt is now snowing\nProcessing Record 38 of Set 9 | rorvik\nIt is not rainning\nProcessing Record 39 of Set 9 | zhangye\nIt is not rainning\nIt is now snowing\nProcessing Record 40 of Set 9 | ankazoabo\nIt is not rainning\nIt is now snowing\nProcessing Record 41 of Set 9 | puerto leguizamo\nIt is not rainning\nIt is now snowing\nProcessing Record 42 of Set 9 | santa isabel do rio negro\nIt is not rainning\nIt is now snowing\nProcessing Record 43 of Set 9 | toliary\nCity not found. Skipping...\nProcessing Record 44 of Set 9 | hammerfest\nIt is not rainning\nIt is now snowing\nProcessing Record 45 of Set 9 | alpena\nIt is not rainning\nIt is now snowing\nProcessing Record 46 of Set 9 | hunza\nCity not found. Skipping...\nProcessing Record 47 of Set 9 | nsanje\nIt is not rainning\nIt is now snowing\nProcessing Record 48 of Set 9 | beringovskiy\nIt is not rainning\nProcessing Record 49 of Set 9 | ayolas\nIt is not rainning\nIt is now snowing\nProcessing Record 50 of Set 9 | cururupu\nIt is now snowing\nProcessing Record 1 of Set 10 | vygonichi\nIt is not rainning\nIt is now snowing\nProcessing Record 2 of Set 10 | dakoro\nIt is not rainning\nIt is now snowing\nProcessing Record 3 of Set 10 | haines junction\nIt is not rainning\nIt is now snowing\nProcessing Record 4 of Set 10 | selma\nIt is not rainning\nIt is now snowing\nProcessing Record 5 of Set 10 | dolores\nIt is not rainning\nIt is now snowing\nProcessing Record 6 of Set 10 | chicama\nIt is not rainning\nIt is now snowing\nProcessing Record 7 of Set 10 | bonavista\nIt is not rainning\nIt is now snowing\nProcessing Record 8 of Set 10 | pangnirtung\nIt is not rainning\nIt is now snowing\nProcessing Record 9 of Set 10 | mwinilunga\nIt is not rainning\nIt is now snowing\nProcessing Record 10 of Set 10 | kununurra\nIt is not rainning\nIt is now snowing\nProcessing Record 11 of Set 10 | druzhba\nIt is not rainning\nIt is now snowing\nProcessing Record 12 of Set 10 | klaksvik\nIt is not rainning\nIt is now snowing\nProcessing Record 13 of Set 10 | basco\nIt is now snowing\nProcessing Record 14 of Set 10 | ormara\nIt is not rainning\nIt is now snowing\nProcessing Record 15 of Set 10 | fort-shevchenko\nIt is not rainning\nIt is now snowing\nProcessing Record 16 of Set 10 | pacific grove\nIt is not rainning\nIt is now snowing\nProcessing Record 17 of Set 10 | luba\nIt is not rainning\nIt is now snowing\nProcessing Record 18 of Set 10 | port hawkesbury\nIt is not rainning\nIt is now snowing\nProcessing Record 19 of Set 10 | one hundred mile house\nCity not found. Skipping...\nProcessing Record 20 of Set 10 | lefka\nIt is not rainning\nIt is now snowing\nProcessing Record 21 of Set 10 | jibuti\nIt is not rainning\nIt is now snowing\nProcessing Record 22 of Set 10 | abha\nIt is not rainning\nIt is now snowing\nProcessing Record 23 of Set 10 | honiara\nIt is not rainning\nIt is now snowing\nProcessing Record 24 of Set 10 | praya\nIt is not rainning\nIt is now snowing\nProcessing Record 25 of Set 10 | saint-pierre\nIt is not rainning\nIt is now snowing\nProcessing Record 26 of Set 10 | santo antonio do ica\nIt is now snowing\nProcessing Record 27 of Set 10 | samalaeulu\nCity not found. Skipping...\nProcessing Record 28 of Set 10 | calabozo\nIt is not rainning\nIt is now snowing\nProcessing Record 29 of Set 10 | moron\nIt is not rainning\nIt is now snowing\nProcessing Record 30 of Set 10 | keetmanshoop\nIt is not rainning\nIt is now snowing\nProcessing Record 31 of Set 10 | bonaventure\nIt is not rainning\nIt is now snowing\nProcessing Record 32 of Set 10 | lompoc\nIt is not rainning\nIt is now snowing\nProcessing Record 33 of Set 10 | guaratinga\nIt is not rainning\nIt is now snowing\nProcessing Record 34 of Set 10 | watsa\nIt is not rainning\nIt is now snowing\nProcessing Record 35 of Set 10 | igrim\nIt is not rainning\nIt is now snowing\nProcessing Record 36 of Set 10 | dzhebariki-khaya\nIt is not rainning\nProcessing Record 37 of Set 10 | gaptsakh\nIt is not rainning\nIt is now snowing\nProcessing Record 38 of Set 10 | san martin\nIt is not rainning\nIt is now snowing\nProcessing Record 39 of Set 10 | chama\nIt is not rainning\nIt is now snowing\nProcessing Record 40 of Set 10 | buala\nIt is not rainning\nIt is now snowing\nProcessing Record 41 of Set 10 | caravelas\nIt is now snowing\nProcessing Record 42 of Set 10 | elk point\nIt is not rainning\nIt is now snowing\nProcessing Record 43 of Set 10 | necochea\nIt is not rainning\nIt is now snowing\nProcessing Record 44 of Set 10 | shitanjing\nIt is not rainning\nIt is now snowing\nProcessing Record 45 of Set 10 | tambul\nCity not found. Skipping...\nProcessing Record 46 of Set 10 | oga\nIt is not rainning\nIt is now snowing\nProcessing Record 47 of Set 10 | pervomayskoye\nIt is not rainning\nIt is now snowing\nProcessing Record 48 of Set 10 | buchanan\nIt is not rainning\nIt is now snowing\nProcessing Record 49 of Set 10 | najran\nIt is not rainning\nIt is now snowing\nProcessing Record 50 of Set 10 | valparaiso\nIt is not rainning\nIt is now snowing\nProcessing Record 1 of Set 11 | manta\nIt is not rainning\nIt is now snowing\nProcessing Record 2 of Set 11 | mizdah\nIt is not rainning\nIt is now snowing\nProcessing Record 3 of Set 11 | deputatskiy\nIt is not rainning\nIt is now snowing\nProcessing Record 4 of Set 11 | bontang\nIt is not rainning\nIt is now snowing\nProcessing Record 5 of Set 11 | adrar\nIt is not rainning\nIt is now snowing\nProcessing Record 6 of Set 11 | nizhnyaya pavlovka\nCity not found. Skipping...\nProcessing Record 7 of Set 11 | mecca\nIt is not rainning\nIt is now snowing\nProcessing Record 8 of Set 11 | chumikan\nIt is not rainning\nIt is now snowing\nProcessing Record 9 of Set 11 | beloha\nIt is not rainning\nIt is now snowing\nProcessing Record 10 of Set 11 | asau\nIt is not rainning\nIt is now snowing\nProcessing Record 11 of Set 11 | roshchino\nIt is not rainning\nIt is now snowing\nProcessing Record 12 of Set 11 | aklavik\nIt is not rainning\nIt is now snowing\nProcessing Record 13 of Set 11 | camapua\nIt is not rainning\nIt is now snowing\nProcessing Record 14 of Set 11 | katsuura\nIt is not rainning\nIt is now snowing\nProcessing Record 15 of Set 11 | ardrishaig\nIt is not rainning\nIt is now snowing\nProcessing Record 16 of Set 11 | grand-lahou\nIt is now snowing\nProcessing Record 17 of Set 11 | gwanda\nIt is not rainning\nIt is now snowing\nProcessing Record 18 of Set 11 | conceicao do araguaia\nIt is now snowing\nProcessing Record 19 of Set 11 | palamos\nIt is not rainning\nIt is now snowing\nProcessing Record 20 of Set 11 | prince rupert\nIt is not rainning\nIt is now snowing\nProcessing Record 21 of Set 11 | wagar\nIt is not rainning\nIt is now snowing\nProcessing Record 22 of Set 11 | port-gentil\nIt is not rainning\nIt is now snowing\nProcessing Record 23 of Set 11 | darlowo\nIt is not rainning\nIt is now snowing\nProcessing Record 24 of Set 11 | ambanja\nIt is now snowing\nProcessing Record 25 of Set 11 | belluru\nIt is not rainning\nIt is now snowing\nProcessing Record 26 of Set 11 | la asuncion\nIt is not rainning\nIt is now snowing\nProcessing Record 27 of Set 11 | waw\nIt is not rainning\nIt is now snowing\nProcessing Record 28 of Set 11 | mokrous\nIt is not rainning\nIt is now snowing\nProcessing Record 29 of Set 11 | belmonte\nIt is not rainning\nIt is now snowing\nProcessing Record 30 of Set 11 | mitsamiouli\nIt is now snowing\nProcessing Record 31 of Set 11 | rockland\nIt is not rainning\nIt is now snowing\nProcessing Record 32 of Set 11 | ballstad\nCity not found. Skipping...\nProcessing Record 33 of Set 11 | fukue\nIt is not rainning\nIt is now snowing\nProcessing Record 34 of Set 11 | kurumkan\nIt is not rainning\nIt is now snowing\nProcessing Record 35 of Set 11 | srednekolymsk\nIt is not rainning\nIt is now snowing\nProcessing Record 36 of Set 11 | santa fe\nIt is not rainning\nIt is now snowing\nProcessing Record 37 of Set 11 | palabuhanratu\nCity not found. Skipping...\nProcessing Record 38 of Set 11 | san carlos de bariloche\nIt is not rainning\nIt is now snowing\nProcessing Record 39 of Set 11 | burica\nCity not found. Skipping...\nProcessing Record 40 of Set 11 | walvis bay\nIt is not rainning\nIt is now snowing\nProcessing Record 41 of Set 11 | hirado\nIt is not rainning\nIt is now snowing\nProcessing Record 42 of Set 11 | hokitika\nIt is not rainning\nIt is now snowing\nProcessing Record 43 of Set 11 | joshimath\nIt is not rainning\nIt is now snowing\nProcessing Record 44 of Set 11 | qandahar\nCity not found. Skipping...\nProcessing Record 45 of Set 11 | eskisehir\nIt is not rainning\nIt is now snowing\nProcessing Record 46 of Set 11 | ust-tsilma\nIt is not rainning\nProcessing Record 47 of Set 11 | chaiyaphum\nIt is now snowing\nProcessing Record 48 of Set 11 | zyryanka\nIt is not rainning\nIt is now snowing\nProcessing Record 49 of Set 11 | coquimbo\nIt is not rainning\nIt is now snowing\nProcessing Record 50 of Set 11 | kargalinskaya\nIt is not rainning\nIt is now snowing\nProcessing Record 1 of Set 12 | gorno-chuyskiy\nCity not found. Skipping...\nProcessing Record 2 of Set 12 | sistranda\nIt is not rainning\nIt is now snowing\nProcessing Record 3 of Set 12 | talnakh\nIt is not rainning\nProcessing Record 4 of Set 12 | kenscoff\nIt is now snowing\nProcessing Record 5 of Set 12 | cerrito\nIt is now snowing\nProcessing Record 6 of Set 12 | perry\nIt is not rainning\nIt is now snowing\nProcessing Record 7 of Set 12 | pemangkat\nIt is not rainning\nIt is now snowing\nProcessing Record 8 of Set 12 | cap malheureux\nIt is not rainning\nIt is now snowing\nProcessing Record 9 of Set 12 | victoria\nIt is not rainning\nIt is now snowing\nProcessing Record 10 of Set 12 | ovalle\nIt is not rainning\nIt is now snowing\nProcessing Record 11 of Set 12 | lishan\nIt is not rainning\nIt is now snowing\nProcessing Record 12 of Set 12 | chebenki\nIt is not rainning\nIt is now snowing\nProcessing Record 13 of Set 12 | kadykchan\nCity not found. Skipping...\nProcessing Record 14 of Set 12 | cuamba\nIt is not rainning\nIt is now snowing\nProcessing Record 15 of Set 12 | thoen\nIt is not rainning\nIt is now snowing\nProcessing Record 16 of Set 12 | ozubulu\nIt is not rainning\nIt is now snowing\nProcessing Record 17 of Set 12 | sakakah\nIt is not rainning\nIt is now snowing\nProcessing Record 18 of Set 12 | penzance\nIt is not rainning\nIt is now snowing\nProcessing Record 19 of Set 12 | romny\nIt is not rainning\nIt is now snowing\nProcessing Record 20 of Set 12 | ghanzi\nIt is not rainning\nIt is now snowing\nProcessing Record 21 of Set 12 | novovasylivka\nIt is not rainning\nIt is now snowing\nProcessing Record 22 of Set 12 | formosa do rio preto\nIt is not rainning\nIt is now snowing\nProcessing Record 23 of Set 12 | udachnyy\nIt is not rainning\nIt is now snowing\nProcessing Record 24 of Set 12 | halifax\nIt is not rainning\nIt is now snowing\nProcessing Record 25 of Set 12 | haibowan\nCity not found. Skipping...\nProcessing Record 26 of Set 12 | port angeles\nIt is not rainning\nIt is now snowing\nProcessing Record 27 of Set 12 | lazaro cardenas\nIt is not rainning\nIt is now snowing\nProcessing Record 28 of Set 12 | goderich\nIt is now snowing\nProcessing Record 29 of Set 12 | tottori\nIt is not rainning\nIt is now snowing\nProcessing Record 30 of Set 12 | nome\nIt is not rainning\nIt is now snowing\nProcessing Record 31 of Set 12 | paracuru\nIt is not rainning\nIt is now snowing\nProcessing Record 32 of Set 12 | anloga\nIt is not rainning\nIt is now snowing\nProcessing Record 33 of Set 12 | abu samrah\nIt is not rainning\nIt is now snowing\nProcessing Record 34 of Set 12 | lebork\nIt is not rainning\nIt is now snowing\nProcessing Record 35 of Set 12 | surt\nIt is not rainning\nIt is now snowing\nProcessing Record 36 of Set 12 | pimentel\nIt is not rainning\nIt is now snowing\nProcessing Record 37 of Set 12 | ust-nera\nIt is not rainning\nIt is now snowing\nProcessing Record 38 of Set 12 | khorramabad\nIt is not rainning\nIt is now snowing\nProcessing Record 39 of Set 12 | vao\nIt is now snowing\nProcessing Record 40 of Set 12 | santiago del estero\nIt is not rainning\nIt is now snowing\nProcessing Record 41 of Set 12 | bad sackingen\nIt is not rainning\nIt is now snowing\nProcessing Record 42 of Set 12 | mega\nIt is not rainning\nIt is now snowing\nProcessing Record 43 of Set 12 | makakilo city\nIt is not rainning\nIt is now snowing\nProcessing Record 44 of Set 12 | shimoda\nIt is not rainning\nIt is now snowing\nProcessing Record 45 of Set 12 | saint-georges\nIt is not rainning\nIt is now snowing\nProcessing Record 46 of Set 12 | senanga\nIt is not rainning\nIt is now snowing\nProcessing Record 47 of Set 12 | otacilio costa\nIt is not rainning\nIt is now snowing\nProcessing Record 48 of Set 12 | seoul\nIt is not rainning\nIt is now snowing\nProcessing Record 49 of Set 12 | muli\nIt is not rainning\nIt is now snowing\nProcessing Record 50 of Set 12 | abhar\nIt is not rainning\nIt is now snowing\nProcessing Record 1 of Set 13 | moss vale\nIt is not rainning\nIt is now snowing\nProcessing Record 2 of Set 13 | abnub\nIt is not rainning\nIt is now snowing\nProcessing Record 3 of Set 13 | onda\nIt is not rainning\nIt is now snowing\nProcessing Record 4 of Set 13 | kiunga\nIt is now snowing\nProcessing Record 5 of Set 13 | new plymouth\nIt is not rainning\nIt is now snowing\nProcessing Record 6 of Set 13 | tyukalinsk\nIt is not rainning\nIt is now snowing\nProcessing Record 7 of Set 13 | fallon\nIt is not rainning\nIt is now snowing\nProcessing Record 8 of Set 13 | dewa\nIt is not rainning\nIt is now snowing\nProcessing Record 9 of Set 13 | xiangxiang\nIt is not rainning\nIt is now snowing\nProcessing Record 10 of Set 13 | sobradinho\nIt is not rainning\nIt is now snowing\nProcessing Record 11 of Set 13 | petropavlovsk-kamchatskiy\nIt is not rainning\nIt is now snowing\nProcessing Record 12 of Set 13 | san blas\nIt is not rainning\nIt is now snowing\nProcessing Record 13 of Set 13 | nishihara\nIt is not rainning\nIt is now snowing\nProcessing Record 14 of Set 13 | naze\nIt is not rainning\nIt is now snowing\nProcessing Record 15 of Set 13 | ninotsminda\nIt is not rainning\nIt is now snowing\nProcessing Record 16 of Set 13 | xiongzhou\nIt is now snowing\nProcessing Record 17 of Set 13 | oranjemund\nIt is not rainning\nIt is now snowing\n-----------------------------\nData Retrieval Complete      \n-----------------------------\n"
    }
   ],
   "source": [
    "# Loop through all the cities in the list.\n",
    "for i, city in enumerate(cities):\n",
    "\n",
    "    # Group cities in sets of 50 for logging purposes.\n",
    "    if (i % 50 == 0 and i >= 50):\n",
    "        set_count += 1\n",
    "        record_count = 1\n",
    "    # Create endpoint URL with each city.\n",
    "    city_url = url + \"&q=\" + city\n",
    "\n",
    "    # Log the URL, record, and set numbers and the city.\n",
    "    print(f\"Processing Record {record_count} of Set {set_count} | {city}\")\n",
    "    # Add 1 to the record count.\n",
    "    record_count += 1\n",
    "    # Run an API request for each of the cities.\n",
    "    try:\n",
    "        # Parse the JSON and retrieve data.\n",
    "        city_weather = requests.get(city_url).json()\n",
    "        # Parse out the needed data.\n",
    "        city_lat = city_weather[\"coord\"][\"lat\"]\n",
    "        city_lng = city_weather[\"coord\"][\"lon\"]\n",
    "        city_max_temp = city_weather[\"main\"][\"temp_max\"]\n",
    "        city_humidity = city_weather[\"main\"][\"humidity\"]\n",
    "        city_clouds = city_weather[\"clouds\"][\"all\"]\n",
    "        city_wind = city_weather[\"wind\"][\"speed\"]\n",
    "        city_country = city_weather[\"sys\"][\"country\"]\n",
    "        weater_description = city_weather[\"weather\"][0][\"description\"]\n",
    "\n",
    "        try:\n",
    "            rain_inches = city_weather[\"rain\"][\"3h\"]\n",
    "        except:\n",
    "            rain_inches =(\"0\")\n",
    "            print ('It is not rainning')\n",
    "        try: \n",
    "            snow_inches = city_weather[\"snow\"][\"3h\"]\n",
    "        except:\n",
    "            snow_inches =(\"0\")\n",
    "            print ('It is now snowing')\n",
    "        # Convert the date to ISO standard.\n",
    "        city_date = datetime.utcfromtimestamp(city_weather[\"dt\"]).strftime('%Y-%m-%d %H:%M:%S')\n",
    "        # Append the city information into city_data list.\n",
    "        city_data.append({\"City\": city.title(),\n",
    "                            \"Country\": city_country,\n",
    "                            \"Date\": city_date,\n",
    "                            \"Lat\": city_lat,\n",
    "                            \"Lng\": city_lng,\n",
    "                            \"Max Temp\": city_max_temp,\n",
    "                            \"Humidity\": city_humidity,\n",
    "                            \"Cloudiness\": city_clouds,\n",
    "                            \"Wind Speed\": city_wind,\n",
    "                            \"Weater Description\" : weater_description,\n",
    "                            \"Rain inches (last 3 hrs)\": rain_inches,\n",
    "                            \"Snow inches (last 3 hrs)\": snow_inches})\n",
    "\n",
    "# If an error is experienced, skip the city.\n",
    "    except:\n",
    "        print(\"City not found. Skipping...\")\n",
    "        pass\n",
    "\n",
    "# Indicate that Data Loading is complete.\n",
    "print(\"-----------------------------\")\n",
    "print(\"Data Retrieval Complete      \")\n",
    "print(\"-----------------------------\")"
   ]
  },
  {
   "cell_type": "code",
   "execution_count": 14,
   "metadata": {},
   "outputs": [
    {
     "output_type": "stream",
     "name": "stdout",
     "text": "568\n"
    }
   ],
   "source": [
    "print(len(city_data))"
   ]
  },
  {
   "cell_type": "code",
   "execution_count": 15,
   "metadata": {},
   "outputs": [
    {
     "output_type": "execute_result",
     "data": {
      "text/plain": "           City Country                 Date    Lat     Lng  Max Temp  \\\n0     Hithadhoo      MV  2020-04-05 03:37:15  -0.60   73.08     81.28   \n1  Punta Arenas      CL  2020-04-05 03:37:15 -53.15  -70.92     41.00   \n2       Rikitea      PF  2020-04-05 03:37:16 -23.12 -134.97     75.63   \n3     Bretzfeld      DE  2020-04-05 03:37:16  49.18    9.44     43.00   \n4        Palmer      US  2020-04-05 03:37:17  42.16  -72.33     50.00   \n5    Cristalina      BR  2020-04-05 03:37:17 -16.77  -47.61     64.71   \n6   Port Alfred      ZA  2020-04-05 03:37:17 -33.59   26.89     64.00   \n7    Butaritari      KI  2020-04-05 03:37:17   3.07  172.79     83.89   \n8       Ushuaia      AR  2020-04-05 03:36:35 -54.80  -68.30     39.20   \n9      Luderitz      NA  2020-04-05 03:37:18 -26.65   15.16     55.40   \n\n   Humidity  Cloudiness  Wind Speed Weater Description  \\\n0        79          98        9.28         light rain   \n1        80          75       25.28      broken clouds   \n2        77           8       18.41          clear sky   \n3        74           0        5.82          clear sky   \n4        71          90        4.70    overcast clouds   \n5        72          65        1.28      broken clouds   \n6        93           2        5.99          clear sky   \n7        74          90        8.34         light rain   \n8        80          20       20.80         few clouds   \n9        93          45       10.29   scattered clouds   \n\n  Rain inches (last 3 hrs) Snow inches (last 3 hrs)  \n0                     2.87                        0  \n1                        0                        0  \n2                        0                        0  \n3                        0                        0  \n4                        0                        0  \n5                        0                        0  \n6                        0                        0  \n7                     0.32                        0  \n8                        0                        0  \n9                        0                        0  ",
      "text/html": "<div>\n<style scoped>\n    .dataframe tbody tr th:only-of-type {\n        vertical-align: middle;\n    }\n\n    .dataframe tbody tr th {\n        vertical-align: top;\n    }\n\n    .dataframe thead th {\n        text-align: right;\n    }\n</style>\n<table border=\"1\" class=\"dataframe\">\n  <thead>\n    <tr style=\"text-align: right;\">\n      <th></th>\n      <th>City</th>\n      <th>Country</th>\n      <th>Date</th>\n      <th>Lat</th>\n      <th>Lng</th>\n      <th>Max Temp</th>\n      <th>Humidity</th>\n      <th>Cloudiness</th>\n      <th>Wind Speed</th>\n      <th>Weater Description</th>\n      <th>Rain inches (last 3 hrs)</th>\n      <th>Snow inches (last 3 hrs)</th>\n    </tr>\n  </thead>\n  <tbody>\n    <tr>\n      <td>0</td>\n      <td>Hithadhoo</td>\n      <td>MV</td>\n      <td>2020-04-05 03:37:15</td>\n      <td>-0.60</td>\n      <td>73.08</td>\n      <td>81.28</td>\n      <td>79</td>\n      <td>98</td>\n      <td>9.28</td>\n      <td>light rain</td>\n      <td>2.87</td>\n      <td>0</td>\n    </tr>\n    <tr>\n      <td>1</td>\n      <td>Punta Arenas</td>\n      <td>CL</td>\n      <td>2020-04-05 03:37:15</td>\n      <td>-53.15</td>\n      <td>-70.92</td>\n      <td>41.00</td>\n      <td>80</td>\n      <td>75</td>\n      <td>25.28</td>\n      <td>broken clouds</td>\n      <td>0</td>\n      <td>0</td>\n    </tr>\n    <tr>\n      <td>2</td>\n      <td>Rikitea</td>\n      <td>PF</td>\n      <td>2020-04-05 03:37:16</td>\n      <td>-23.12</td>\n      <td>-134.97</td>\n      <td>75.63</td>\n      <td>77</td>\n      <td>8</td>\n      <td>18.41</td>\n      <td>clear sky</td>\n      <td>0</td>\n      <td>0</td>\n    </tr>\n    <tr>\n      <td>3</td>\n      <td>Bretzfeld</td>\n      <td>DE</td>\n      <td>2020-04-05 03:37:16</td>\n      <td>49.18</td>\n      <td>9.44</td>\n      <td>43.00</td>\n      <td>74</td>\n      <td>0</td>\n      <td>5.82</td>\n      <td>clear sky</td>\n      <td>0</td>\n      <td>0</td>\n    </tr>\n    <tr>\n      <td>4</td>\n      <td>Palmer</td>\n      <td>US</td>\n      <td>2020-04-05 03:37:17</td>\n      <td>42.16</td>\n      <td>-72.33</td>\n      <td>50.00</td>\n      <td>71</td>\n      <td>90</td>\n      <td>4.70</td>\n      <td>overcast clouds</td>\n      <td>0</td>\n      <td>0</td>\n    </tr>\n    <tr>\n      <td>5</td>\n      <td>Cristalina</td>\n      <td>BR</td>\n      <td>2020-04-05 03:37:17</td>\n      <td>-16.77</td>\n      <td>-47.61</td>\n      <td>64.71</td>\n      <td>72</td>\n      <td>65</td>\n      <td>1.28</td>\n      <td>broken clouds</td>\n      <td>0</td>\n      <td>0</td>\n    </tr>\n    <tr>\n      <td>6</td>\n      <td>Port Alfred</td>\n      <td>ZA</td>\n      <td>2020-04-05 03:37:17</td>\n      <td>-33.59</td>\n      <td>26.89</td>\n      <td>64.00</td>\n      <td>93</td>\n      <td>2</td>\n      <td>5.99</td>\n      <td>clear sky</td>\n      <td>0</td>\n      <td>0</td>\n    </tr>\n    <tr>\n      <td>7</td>\n      <td>Butaritari</td>\n      <td>KI</td>\n      <td>2020-04-05 03:37:17</td>\n      <td>3.07</td>\n      <td>172.79</td>\n      <td>83.89</td>\n      <td>74</td>\n      <td>90</td>\n      <td>8.34</td>\n      <td>light rain</td>\n      <td>0.32</td>\n      <td>0</td>\n    </tr>\n    <tr>\n      <td>8</td>\n      <td>Ushuaia</td>\n      <td>AR</td>\n      <td>2020-04-05 03:36:35</td>\n      <td>-54.80</td>\n      <td>-68.30</td>\n      <td>39.20</td>\n      <td>80</td>\n      <td>20</td>\n      <td>20.80</td>\n      <td>few clouds</td>\n      <td>0</td>\n      <td>0</td>\n    </tr>\n    <tr>\n      <td>9</td>\n      <td>Luderitz</td>\n      <td>NA</td>\n      <td>2020-04-05 03:37:18</td>\n      <td>-26.65</td>\n      <td>15.16</td>\n      <td>55.40</td>\n      <td>93</td>\n      <td>45</td>\n      <td>10.29</td>\n      <td>scattered clouds</td>\n      <td>0</td>\n      <td>0</td>\n    </tr>\n  </tbody>\n</table>\n</div>"
     },
     "metadata": {},
     "execution_count": 15
    }
   ],
   "source": [
    "# Convert the array of dictionaries to a Pandas DataFrame\n",
    "city_data_df = pd.DataFrame(city_data)\n",
    "city_data_df.head(10)"
   ]
  },
  {
   "cell_type": "code",
   "execution_count": 18,
   "metadata": {},
   "outputs": [],
   "source": [
    "# Create the output file (CSV).\n",
    "output_data_file = \"weather_data/Weatherpy_challenge\"\n",
    "# Export the City_Data into a CSV.\n",
    "city_data_df.to_csv(output_data_file, index_label='City_ID')"
   ]
  },
  {
   "cell_type": "code",
   "execution_count": 22,
   "metadata": {},
   "outputs": [
    {
     "output_type": "execute_result",
     "data": {
      "text/plain": "54"
     },
     "metadata": {},
     "execution_count": 22
    }
   ],
   "source": [
    "\n",
    "(city_data_df[ \"Rain inches (last 3 hrs)\"]!=\"0\").sum()"
   ]
  },
  {
   "cell_type": "code",
   "execution_count": 24,
   "metadata": {},
   "outputs": [
    {
     "output_type": "execute_result",
     "data": {
      "text/plain": "21"
     },
     "metadata": {},
     "execution_count": 24
    }
   ],
   "source": [
    "(city_data_df[\"Snow inches (last 3 hrs)\"]!=\"0\").sum()"
   ]
  },
  {
   "cell_type": "code",
   "execution_count": null,
   "metadata": {},
   "outputs": [],
   "source": []
  }
 ],
 "metadata": {
  "kernelspec": {
   "display_name": "Python 3",
   "language": "python",
   "name": "python3"
  },
  "language_info": {
   "codemirror_mode": {
    "name": "ipython",
    "version": 3
   },
   "file_extension": ".py",
   "mimetype": "text/x-python",
   "name": "python",
   "nbconvert_exporter": "python",
   "pygments_lexer": "ipython3",
   "version": "3.7.4-final"
  }
 },
 "nbformat": 4,
 "nbformat_minor": 2
}